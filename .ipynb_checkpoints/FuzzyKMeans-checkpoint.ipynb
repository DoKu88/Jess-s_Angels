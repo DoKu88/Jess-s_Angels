{
 "cells": [
  {
   "cell_type": "code",
   "execution_count": 2,
   "metadata": {
    "collapsed": true
   },
   "outputs": [],
   "source": [
    "import numpy as np\n",
    "import pandas as pd \n",
    "from utils import *\n",
    "import os\n",
    "import matplotlib.pyplot as plt\n",
    "import skfuzzy as fuzz"
   ]
  },
  {
   "cell_type": "code",
   "execution_count": 3,
   "metadata": {},
   "outputs": [
    {
     "name": "stdout",
     "output_type": "stream",
     "text": [
      "Loading data...\n"
     ]
    }
   ],
   "source": [
    "model_name = 'surprise_svd'\n",
    "ordering = 'mu' # rows correspond to movie_ids; cols correspond to user_ids\n",
    "submit = True# set to True to save a submission on qual\n",
    "save_model = False # set to True to save model parameters for future predictions\n",
    "\n",
    "\n",
    "print('Loading data...')\n",
    "df = pd.read_csv(os.path.join('data', 'mu_train.csv'))\n",
    "# modify dataframe to reduce memory\n",
    "del df['Unnamed: 0']\n",
    "del df['Date Number']\n",
    "df = df.astype('int32')\n",
    "\n",
    "df_val = pd.read_csv(os.path.join('data', 'mu_val.csv'))\n"
   ]
  },
  {
   "cell_type": "code",
   "execution_count": 5,
   "metadata": {},
   "outputs": [
    {
     "data": {
      "text/html": [
       "<div>\n",
       "<style scoped>\n",
       "    .dataframe tbody tr th:only-of-type {\n",
       "        vertical-align: middle;\n",
       "    }\n",
       "\n",
       "    .dataframe tbody tr th {\n",
       "        vertical-align: top;\n",
       "    }\n",
       "\n",
       "    .dataframe thead th {\n",
       "        text-align: right;\n",
       "    }\n",
       "</style>\n",
       "<table border=\"1\" class=\"dataframe\">\n",
       "  <thead>\n",
       "    <tr style=\"text-align: right;\">\n",
       "      <th></th>\n",
       "      <th>User Number</th>\n",
       "      <th>Movie Number</th>\n",
       "      <th>Rating</th>\n",
       "    </tr>\n",
       "  </thead>\n",
       "  <tbody>\n",
       "    <tr>\n",
       "      <th>0</th>\n",
       "      <td>5707</td>\n",
       "      <td>1</td>\n",
       "      <td>3</td>\n",
       "    </tr>\n",
       "    <tr>\n",
       "      <th>1</th>\n",
       "      <td>16582</td>\n",
       "      <td>1</td>\n",
       "      <td>4</td>\n",
       "    </tr>\n",
       "    <tr>\n",
       "      <th>2</th>\n",
       "      <td>22397</td>\n",
       "      <td>1</td>\n",
       "      <td>3</td>\n",
       "    </tr>\n",
       "    <tr>\n",
       "      <th>3</th>\n",
       "      <td>26684</td>\n",
       "      <td>1</td>\n",
       "      <td>4</td>\n",
       "    </tr>\n",
       "    <tr>\n",
       "      <th>4</th>\n",
       "      <td>33215</td>\n",
       "      <td>1</td>\n",
       "      <td>4</td>\n",
       "    </tr>\n",
       "  </tbody>\n",
       "</table>\n",
       "</div>"
      ],
      "text/plain": [
       "   User Number  Movie Number  Rating\n",
       "0         5707             1       3\n",
       "1        16582             1       4\n",
       "2        22397             1       3\n",
       "3        26684             1       4\n",
       "4        33215             1       4"
      ]
     },
     "execution_count": 5,
     "metadata": {},
     "output_type": "execute_result"
    }
   ],
   "source": [
    "df.head()"
   ]
  },
  {
   "cell_type": "code",
   "execution_count": 9,
   "metadata": {},
   "outputs": [
    {
     "data": {
      "text/plain": [
       "2.8297872340425534"
      ]
     },
     "execution_count": 9,
     "metadata": {},
     "output_type": "execute_result"
    }
   ],
   "source": [
    "np.mean(df.loc[df[\"Movie Number\"] == 1]['Rating'])"
   ]
  },
  {
   "cell_type": "code",
   "execution_count": null,
   "metadata": {
    "collapsed": true
   },
   "outputs": [],
   "source": [
    "movie_averages = []\n",
    "for i in range(len(df)):\n",
    "    movie.averages.append(np.mean(df.loc[df[\"Movie Number\"] == i]['Rating']))"
   ]
  },
  {
   "cell_type": "code",
   "execution_count": null,
   "metadata": {},
   "outputs": [
    {
     "name": "stdout",
     "output_type": "stream",
     "text": [
      "Loading data...\n"
     ]
    }
   ],
   "source": [
    "print('Loading data...')\n",
    "dfum = pd.read_csv(os.path.join('data', 'mu_train.csv'))\n",
    "# modify dataframe to reduce memory\n",
    "del dfum['Unnamed: 0']\n",
    "del dfum['Date Number']\n",
    "dfum = dfum.astype('int32')"
   ]
  },
  {
   "cell_type": "code",
   "execution_count": null,
   "metadata": {
    "collapsed": true
   },
   "outputs": [],
   "source": [
    "user_averages = []\n",
    "for i in range(len(dfum)):\n",
    "    movie.averages.append(np.mean(dfum.loc[dfum[\"User Number\"] == i]['Rating']))"
   ]
  },
  {
   "cell_type": "code",
   "execution_count": null,
   "metadata": {
    "collapsed": true
   },
   "outputs": [],
   "source": [
    "# Regenerate fuzzy model with 3 cluster centers - note that center ordering\n",
    "# is random in this clustering algorithm, so the centers may change places\n",
    "cntr, u_orig, _, _, _, _, _ = fuzz.cluster.cmeans(\n",
    "    alldata, 3, 2, error=0.005, maxiter=1000)\n",
    "\n",
    "# Show 3-cluster model\n",
    "fig2, ax2 = plt.subplots()\n",
    "ax2.set_title('Trained model')\n",
    "for j in range(3):\n",
    "    ax2.plot(alldata[0, u_orig.argmax(axis=0) == j],\n",
    "             alldata[1, u_orig.argmax(axis=0) == j], 'o',\n",
    "             label='series ' + str(j))\n",
    "ax2.legend()"
   ]
  }
 ],
 "metadata": {
  "kernelspec": {
   "display_name": "Python 3",
   "language": "python",
   "name": "python3"
  },
  "language_info": {
   "codemirror_mode": {
    "name": "ipython",
    "version": 3
   },
   "file_extension": ".py",
   "mimetype": "text/x-python",
   "name": "python",
   "nbconvert_exporter": "python",
   "pygments_lexer": "ipython3",
   "version": "3.6.2"
  }
 },
 "nbformat": 4,
 "nbformat_minor": 2
}
